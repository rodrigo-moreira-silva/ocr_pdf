{
 "cells": [
  {
   "cell_type": "code",
   "execution_count": 38,
   "metadata": {},
   "outputs": [],
   "source": [
    "import pytesseract as ocr\n",
    "import glob  \n",
    "import os\n",
    "from PIL import Image\n",
    "from tqdm import tqdm \n",
    "from datetime import date\n",
    "from pdf2image import convert_from_path \n",
    "from pdf2image.exceptions import (PDFInfoNotInstalledError,PDFPageCountError,PDFSyntaxError)"
   ]
  },
  {
   "cell_type": "code",
   "execution_count": 41,
   "metadata": {},
   "outputs": [],
   "source": [
    "#Função para OCR de arquivo pdf\n",
    "\n",
    "def ocr_pdf(arquivo_pdf):\n",
    "\n",
    "    '''Função que recebe um arquivo PDF e devolve uma string com o OCR do conteúdo'''\n",
    "\n",
    "    nome_do_arquivo = os.path.split(arquivo_pdf)[1]\n",
    "\n",
    "    cabecalho = 50*'*' + f' Conteúdo {nome_do_arquivo} ' + 50*'*' + '\\n'\n",
    "\n",
    "    #print(f'Inicio OCR do arquivo {nome_do_arquivo}')\n",
    "\n",
    "    try:\n",
    "        imagem_paginas = convert_from_path(arquivo_pdf) \n",
    "    except PDFInfoNotInstalledError:\n",
    "        erro = cabecalho + 'Arquivo com problema. Erro: PDFInfoNotInstalledError.' + '\\n'\n",
    "        return erro\n",
    "    except PDFPageCountError:\n",
    "        erro = cabecalho + 'Arquivo com problema. Erro: PDFPageCountError.' + '\\n'\n",
    "        return erro\n",
    "    except PDFSyntaxError:\n",
    "        erro = cabecalho + 'Arquivo com problema. Erro: PDFSyntaxError.' + '\\n'\n",
    "        return erro\n",
    "\n",
    "    #Convertendo pdf para imagens\n",
    "    for i,pagina in enumerate(imagem_paginas):\n",
    "        pagina.save(f'pagina_' + str(i) + '.jpg', 'JPEG')       \n",
    "\n",
    "    #OCR das imagens\n",
    "    files = glob.glob('*.jpg')\n",
    "    paginas = []\n",
    "    for filename in files:\n",
    "        t = ocr.image_to_string(Image.open(filename), lang='por')\n",
    "        #tratando o texto\n",
    "        t = t.replace('\\\\n \\\\n','').replace('\\\\n\\\\n','').replace('\\\\n',' ').replace('   ',' ').replace('    ','') + '\\n'\n",
    "        t = t.split() \n",
    "        t = ' '.join(t)\n",
    "        paginas.append(t)\n",
    "\n",
    "    #Apagando arquivos de imagens\n",
    "    for py_file in files:\n",
    "        try:\n",
    "            os.remove(py_file)\n",
    "        except OSError as e:\n",
    "            print(f\"Error:{e.strerror}\")\n",
    "    \n",
    "    #print('Fim')   \n",
    "        \n",
    "    texto = cabecalho + str(paginas).replace(']','').replace('[','') + '\\n'\n",
    "\n",
    "    return texto"
   ]
  },
  {
   "cell_type": "code",
   "execution_count": 42,
   "metadata": {},
   "outputs": [
    {
     "name": "stderr",
     "output_type": "stream",
     "text": [
      "100%|██████████| 2/2 [00:44<00:00, 22.44s/it]"
     ]
    },
    {
     "name": "stdout",
     "output_type": "stream",
     "text": [
      "Fim dos arquivos\n"
     ]
    },
    {
     "name": "stderr",
     "output_type": "stream",
     "text": [
      "\n"
     ]
    }
   ],
   "source": [
    "#pasta com arquivos pdf\n",
    "arquivos_pdf = glob.glob('arquivos/*.pdf')\n",
    "\n",
    "data_atual = date.today().strftime('%d-%m-%Y')\n",
    "\n",
    "for pdf in tqdm(arquivos_pdf):\n",
    "\n",
    "    #Chama função que faz o OCR\n",
    "    texto_pdfs = ocr_pdf(pdf)\n",
    "\n",
    "    #Gravando resultado em um arquivo de texto \n",
    "    with open(f'OCR-{data_atual}.txt', 'a') as temp_file:\n",
    "            temp_file.write(texto_pdfs)\n",
    "            temp_file.write('\\n')\n",
    "    \n",
    "    texto_pdfs = ''\n",
    "\n",
    "print('Fim dos arquivos')"
   ]
  }
 ],
 "metadata": {
  "kernelspec": {
   "display_name": "Python 3.8.8 ('base')",
   "language": "python",
   "name": "python3"
  },
  "language_info": {
   "codemirror_mode": {
    "name": "ipython",
    "version": 3
   },
   "file_extension": ".py",
   "mimetype": "text/x-python",
   "name": "python",
   "nbconvert_exporter": "python",
   "pygments_lexer": "ipython3",
   "version": "3.8.8"
  },
  "orig_nbformat": 4,
  "vscode": {
   "interpreter": {
    "hash": "8e7af5626c7e654314ce176c299bd4d61dd6a36e86a9674195997ac339225326"
   }
  }
 },
 "nbformat": 4,
 "nbformat_minor": 2
}
